{
 "cells": [
  {
   "cell_type": "markdown",
   "id": "9dbdca4f",
   "metadata": {},
   "source": [
    "#Answer1"
   ]
  },
  {
   "cell_type": "code",
   "execution_count": 1,
   "id": "411541d2",
   "metadata": {},
   "outputs": [
    {
     "name": "stdout",
     "output_type": "stream",
     "text": [
      "Enter the no.: 9\n",
      "0\n",
      "1\n",
      "1\n",
      "2\n",
      "3\n",
      "5\n",
      "8\n",
      "13\n",
      "21\n"
     ]
    }
   ],
   "source": [
    "def fib(n):\n",
    "    if n<=1:\n",
    "        return n\n",
    "    else:\n",
    "        return fib(n-1)+fib(n-2)\n",
    "n=int(input(\"Enter the no.: \"))\n",
    "for i in range(n):\n",
    "    print(fib(i))"
   ]
  },
  {
   "cell_type": "markdown",
   "id": "0ff6affb",
   "metadata": {},
   "source": [
    "#Answer2"
   ]
  },
  {
   "cell_type": "code",
   "execution_count": 8,
   "id": "13da1e9b",
   "metadata": {},
   "outputs": [
    {
     "name": "stdout",
     "output_type": "stream",
     "text": [
      "Enter no.6\n",
      "factorial is: 720\n"
     ]
    }
   ],
   "source": [
    "def fact(n):\n",
    "    if n==0:\n",
    "        return 1\n",
    "    else:\n",
    "        return n*fact(n-1)\n",
    "n=int(input(\"Enter no.\"))\n",
    "if n<0:\n",
    "    print(\"enter positive no.\")\n",
    "elif n==0:\n",
    "    print(\"Factorial is 1\")\n",
    "else:\n",
    "    print(\"factorial is:\", fact(n))"
   ]
  },
  {
   "cell_type": "markdown",
   "id": "ee6c00ad",
   "metadata": {},
   "source": [
    "#Answer3"
   ]
  },
  {
   "cell_type": "code",
   "execution_count": 9,
   "id": "d260d4da",
   "metadata": {},
   "outputs": [
    {
     "name": "stdout",
     "output_type": "stream",
     "text": [
      "Enter your height in mt.:1.62\n",
      "Enter your weight in kg.:66\n",
      "Your BMI is: 20.37037037037037\n"
     ]
    }
   ],
   "source": [
    "h=float(input(\"Enter your height in mt.:\"))\n",
    "w=float(input(\"Enter your weight in kg.:\"))\n",
    "BMI=(w/(h*2))\n",
    "print(\"Your BMI is:\", BMI)"
   ]
  },
  {
   "cell_type": "markdown",
   "id": "1f000b04",
   "metadata": {},
   "source": [
    "#Answer4"
   ]
  },
  {
   "cell_type": "code",
   "execution_count": 10,
   "id": "5d566727",
   "metadata": {},
   "outputs": [
    {
     "name": "stdout",
     "output_type": "stream",
     "text": [
      "enter no.:10\n",
      "log(n) is: 2.302585092994046\n"
     ]
    }
   ],
   "source": [
    "import math\n",
    "n=float(input(\"enter no.:\"))\n",
    "l=math.log(n)\n",
    "print(\"log(n) is:\",l)"
   ]
  },
  {
   "cell_type": "markdown",
   "id": "8b6bcbe5",
   "metadata": {},
   "source": [
    "#Answer5"
   ]
  },
  {
   "cell_type": "code",
   "execution_count": 13,
   "id": "4b4047be",
   "metadata": {},
   "outputs": [
    {
     "name": "stdout",
     "output_type": "stream",
     "text": [
      "enter no.:5\n",
      "Sum of cube of no.s are: 225\n"
     ]
    }
   ],
   "source": [
    "n=int(input(\"enter no.:\"))\n",
    "a=0\n",
    "for i in range(n+1):\n",
    "    a=a+(i**3)\n",
    "print(\"Sum of cube of no.s are:\", a)"
   ]
  },
  {
   "cell_type": "code",
   "execution_count": null,
   "id": "8c686f20",
   "metadata": {},
   "outputs": [],
   "source": []
  }
 ],
 "metadata": {
  "kernelspec": {
   "display_name": "Python 3 (ipykernel)",
   "language": "python",
   "name": "python3"
  },
  "language_info": {
   "codemirror_mode": {
    "name": "ipython",
    "version": 3
   },
   "file_extension": ".py",
   "mimetype": "text/x-python",
   "name": "python",
   "nbconvert_exporter": "python",
   "pygments_lexer": "ipython3",
   "version": "3.9.7"
  }
 },
 "nbformat": 4,
 "nbformat_minor": 5
}
